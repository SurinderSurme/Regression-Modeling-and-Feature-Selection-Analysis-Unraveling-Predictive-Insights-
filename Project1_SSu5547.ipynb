{
 "cells": [
  {
   "cell_type": "markdown",
   "id": "e9d49024",
   "metadata": {},
   "source": [
    "# CSIS 3290-002_Project\n",
    "# Surinder Singh Surme (300335547)"
   ]
  },
  {
   "cell_type": "markdown",
   "id": "e7e28b06",
   "metadata": {},
   "source": [
    "### 2. Library import and data prepration"
   ]
  },
  {
   "cell_type": "code",
   "execution_count": 83,
   "id": "93b39f4f",
   "metadata": {},
   "outputs": [],
   "source": [
    "#importing all the important libraries\n",
    "import pandas as pd\n",
    "import numpy as np\n",
    "import seaborn as seab\n",
    "from scipy.stats import norm\n",
    "import matplotlib.pyplot as plt\n",
    "from matplotlib import patches\n",
    "from scipy.spatial import ConvexHull\n",
    "import warnings; warnings.simplefilter('ignore')\n",
    "from sklearn.feature_selection import VarianceThreshold, SelectKBest, f_regression\n",
    "from sklearn.model_selection import train_test_split\n",
    "from sklearn.preprocessing import PolynomialFeatures, MinMaxScaler\n",
    "from sklearn.metrics import mean_squared_error\n",
    "from sklearn.linear_model import LinearRegression, Ridge, Lasso\n",
    "from sklearn.pipeline import Pipeline\n",
    "from sklearn.preprocessing import RobustScaler, PolynomialFeatures\n",
    "from sklearn.linear_model import LinearRegression\n",
    "from sklearn.feature_selection import SelectFromModel"
   ]
  },
  {
   "cell_type": "code",
   "execution_count": 84,
   "id": "73bdcce7",
   "metadata": {
    "scrolled": false
   },
   "outputs": [
    {
     "data": {
      "text/html": [
       "<div>\n",
       "<style scoped>\n",
       "    .dataframe tbody tr th:only-of-type {\n",
       "        vertical-align: middle;\n",
       "    }\n",
       "\n",
       "    .dataframe tbody tr th {\n",
       "        vertical-align: top;\n",
       "    }\n",
       "\n",
       "    .dataframe thead th {\n",
       "        text-align: right;\n",
       "    }\n",
       "</style>\n",
       "<table border=\"1\" class=\"dataframe\">\n",
       "  <thead>\n",
       "    <tr style=\"text-align: right;\">\n",
       "      <th></th>\n",
       "      <th>Unnamed: 0</th>\n",
       "      <th>CourseCategory</th>\n",
       "      <th>Unnamed:3</th>\n",
       "      <th>InstRating</th>\n",
       "      <th>Review</th>\n",
       "      <th>Student</th>\n",
       "      <th>Lectures</th>\n",
       "      <th>Duration</th>\n",
       "      <th>AvgRating</th>\n",
       "      <th>NumberRatings</th>\n",
       "      <th>Enrollment</th>\n",
       "      <th>LastUpdated</th>\n",
       "      <th>Fee</th>\n",
       "      <th>Discount</th>\n",
       "      <th>cbrt_NumberRatings</th>\n",
       "      <th>cbrt_Enrollment</th>\n",
       "      <th>cbrt_Student</th>\n",
       "      <th>cbrt_Review</th>\n",
       "    </tr>\n",
       "  </thead>\n",
       "  <tbody>\n",
       "    <tr>\n",
       "      <th>0</th>\n",
       "      <td>0</td>\n",
       "      <td>business</td>\n",
       "      <td>NaN</td>\n",
       "      <td>4.5</td>\n",
       "      <td>89865.0</td>\n",
       "      <td>405914.0</td>\n",
       "      <td>286.0</td>\n",
       "      <td>9.80</td>\n",
       "      <td>4.6</td>\n",
       "      <td>21837.0</td>\n",
       "      <td>117466.0</td>\n",
       "      <td>3.0</td>\n",
       "      <td>19.99</td>\n",
       "      <td>88.0</td>\n",
       "      <td>27.951020</td>\n",
       "      <td>48.974581</td>\n",
       "      <td>74.041978</td>\n",
       "      <td>44.791629</td>\n",
       "    </tr>\n",
       "    <tr>\n",
       "      <th>1</th>\n",
       "      <td>1</td>\n",
       "      <td>programming</td>\n",
       "      <td>NaN</td>\n",
       "      <td>4.2</td>\n",
       "      <td>5658.0</td>\n",
       "      <td>32319.0</td>\n",
       "      <td>66.0</td>\n",
       "      <td>4.97</td>\n",
       "      <td>4.2</td>\n",
       "      <td>1488.0</td>\n",
       "      <td>9068.0</td>\n",
       "      <td>3.0</td>\n",
       "      <td>16.99</td>\n",
       "      <td>88.0</td>\n",
       "      <td>11.416535</td>\n",
       "      <td>20.853094</td>\n",
       "      <td>31.853168</td>\n",
       "      <td>17.819177</td>\n",
       "    </tr>\n",
       "    <tr>\n",
       "      <th>2</th>\n",
       "      <td>2</td>\n",
       "      <td>it_software</td>\n",
       "      <td>NaN</td>\n",
       "      <td>4.5</td>\n",
       "      <td>49502.0</td>\n",
       "      <td>376881.0</td>\n",
       "      <td>251.0</td>\n",
       "      <td>93.15</td>\n",
       "      <td>4.4</td>\n",
       "      <td>6864.0</td>\n",
       "      <td>30988.0</td>\n",
       "      <td>5.0</td>\n",
       "      <td>17.99</td>\n",
       "      <td>89.0</td>\n",
       "      <td>19.004616</td>\n",
       "      <td>31.409753</td>\n",
       "      <td>72.232850</td>\n",
       "      <td>36.717597</td>\n",
       "    </tr>\n",
       "    <tr>\n",
       "      <th>3</th>\n",
       "      <td>3</td>\n",
       "      <td>it_software</td>\n",
       "      <td>NaN</td>\n",
       "      <td>4.7</td>\n",
       "      <td>14790.0</td>\n",
       "      <td>45655.0</td>\n",
       "      <td>26.0</td>\n",
       "      <td>2.05</td>\n",
       "      <td>4.7</td>\n",
       "      <td>4838.0</td>\n",
       "      <td>15902.0</td>\n",
       "      <td>3.0</td>\n",
       "      <td>16.99</td>\n",
       "      <td>80.0</td>\n",
       "      <td>16.913051</td>\n",
       "      <td>25.146869</td>\n",
       "      <td>35.740678</td>\n",
       "      <td>24.546490</td>\n",
       "    </tr>\n",
       "    <tr>\n",
       "      <th>4</th>\n",
       "      <td>4</td>\n",
       "      <td>personal_development</td>\n",
       "      <td>NaN</td>\n",
       "      <td>4.4</td>\n",
       "      <td>15677.0</td>\n",
       "      <td>71088.0</td>\n",
       "      <td>82.0</td>\n",
       "      <td>11.07</td>\n",
       "      <td>4.4</td>\n",
       "      <td>716.0</td>\n",
       "      <td>5774.0</td>\n",
       "      <td>6.0</td>\n",
       "      <td>16.99</td>\n",
       "      <td>83.0</td>\n",
       "      <td>8.946181</td>\n",
       "      <td>17.940130</td>\n",
       "      <td>41.425278</td>\n",
       "      <td>25.027703</td>\n",
       "    </tr>\n",
       "  </tbody>\n",
       "</table>\n",
       "</div>"
      ],
      "text/plain": [
       "   Unnamed: 0        CourseCategory  Unnamed:3  InstRating   Review   Student  \\\n",
       "0           0              business        NaN         4.5  89865.0  405914.0   \n",
       "1           1           programming        NaN         4.2   5658.0   32319.0   \n",
       "2           2           it_software        NaN         4.5  49502.0  376881.0   \n",
       "3           3           it_software        NaN         4.7  14790.0   45655.0   \n",
       "4           4  personal_development        NaN         4.4  15677.0   71088.0   \n",
       "\n",
       "   Lectures  Duration  AvgRating  NumberRatings  Enrollment  LastUpdated  \\\n",
       "0     286.0      9.80        4.6        21837.0    117466.0          3.0   \n",
       "1      66.0      4.97        4.2         1488.0      9068.0          3.0   \n",
       "2     251.0     93.15        4.4         6864.0     30988.0          5.0   \n",
       "3      26.0      2.05        4.7         4838.0     15902.0          3.0   \n",
       "4      82.0     11.07        4.4          716.0      5774.0          6.0   \n",
       "\n",
       "     Fee  Discount  cbrt_NumberRatings  cbrt_Enrollment  cbrt_Student  \\\n",
       "0  19.99      88.0           27.951020        48.974581     74.041978   \n",
       "1  16.99      88.0           11.416535        20.853094     31.853168   \n",
       "2  17.99      89.0           19.004616        31.409753     72.232850   \n",
       "3  16.99      80.0           16.913051        25.146869     35.740678   \n",
       "4  16.99      83.0            8.946181        17.940130     41.425278   \n",
       "\n",
       "   cbrt_Review  \n",
       "0    44.791629  \n",
       "1    17.819177  \n",
       "2    36.717597  \n",
       "3    24.546490  \n",
       "4    25.027703  "
      ]
     },
     "execution_count": 84,
     "metadata": {},
     "output_type": "execute_result"
    }
   ],
   "source": [
    " df=pd.read_csv('dataset/Lab02_prepared.csv')\n",
    "df.head()"
   ]
  },
  {
   "cell_type": "code",
   "execution_count": 86,
   "id": "cfbc083a",
   "metadata": {},
   "outputs": [
    {
     "data": {
      "text/plain": [
       "(1889, 18)"
      ]
     },
     "execution_count": 86,
     "metadata": {},
     "output_type": "execute_result"
    }
   ],
   "source": [
    "df.shape"
   ]
  },
  {
   "cell_type": "code",
   "execution_count": 87,
   "id": "9b8a7e57",
   "metadata": {},
   "outputs": [
    {
     "data": {
      "text/plain": [
       "Unnamed: 0              int64\n",
       "CourseCategory         object\n",
       "Unnamed:3             float64\n",
       "InstRating            float64\n",
       "Review                float64\n",
       "Student               float64\n",
       "Lectures              float64\n",
       "Duration              float64\n",
       "AvgRating             float64\n",
       "NumberRatings         float64\n",
       "Enrollment            float64\n",
       "LastUpdated           float64\n",
       "Fee                   float64\n",
       "Discount              float64\n",
       "cbrt_NumberRatings    float64\n",
       "cbrt_Enrollment       float64\n",
       "cbrt_Student          float64\n",
       "cbrt_Review           float64\n",
       "dtype: object"
      ]
     },
     "execution_count": 87,
     "metadata": {},
     "output_type": "execute_result"
    }
   ],
   "source": [
    "df.dtypes"
   ]
  },
  {
   "cell_type": "code",
   "execution_count": 88,
   "id": "22660ea2",
   "metadata": {},
   "outputs": [],
   "source": [
    "df.dropna(axis=1,how='any',inplace=True)"
   ]
  },
  {
   "cell_type": "code",
   "execution_count": 89,
   "id": "7352fb7e",
   "metadata": {},
   "outputs": [
    {
     "name": "stdout",
     "output_type": "stream",
     "text": [
      "<class 'pandas.core.frame.DataFrame'>\n",
      "RangeIndex: 1889 entries, 0 to 1888\n",
      "Data columns (total 13 columns):\n",
      " #   Column              Non-Null Count  Dtype  \n",
      "---  ------              --------------  -----  \n",
      " 0   Unnamed: 0          1889 non-null   int64  \n",
      " 1   CourseCategory      1889 non-null   object \n",
      " 2   InstRating          1889 non-null   float64\n",
      " 3   Student             1889 non-null   float64\n",
      " 4   Duration            1889 non-null   float64\n",
      " 5   NumberRatings       1889 non-null   float64\n",
      " 6   Enrollment          1889 non-null   float64\n",
      " 7   LastUpdated         1889 non-null   float64\n",
      " 8   Fee                 1889 non-null   float64\n",
      " 9   Discount            1889 non-null   float64\n",
      " 10  cbrt_NumberRatings  1889 non-null   float64\n",
      " 11  cbrt_Enrollment     1889 non-null   float64\n",
      " 12  cbrt_Student        1889 non-null   float64\n",
      "dtypes: float64(11), int64(1), object(1)\n",
      "memory usage: 192.0+ KB\n"
     ]
    }
   ],
   "source": [
    "df.info()"
   ]
  },
  {
   "cell_type": "markdown",
   "id": "9b92b52c",
   "metadata": {},
   "source": [
    "### 3. Exploratory Data Analysis"
   ]
  },
  {
   "cell_type": "markdown",
   "id": "d4bd8b90",
   "metadata": {},
   "source": [
    "### a. Print out the summary statistics of the dataset "
   ]
  },
  {
   "cell_type": "code",
   "execution_count": 90,
   "id": "025667ed",
   "metadata": {},
   "outputs": [
    {
     "data": {
      "text/html": [
       "<div>\n",
       "<style scoped>\n",
       "    .dataframe tbody tr th:only-of-type {\n",
       "        vertical-align: middle;\n",
       "    }\n",
       "\n",
       "    .dataframe tbody tr th {\n",
       "        vertical-align: top;\n",
       "    }\n",
       "\n",
       "    .dataframe thead th {\n",
       "        text-align: right;\n",
       "    }\n",
       "</style>\n",
       "<table border=\"1\" class=\"dataframe\">\n",
       "  <thead>\n",
       "    <tr style=\"text-align: right;\">\n",
       "      <th></th>\n",
       "      <th>InstRating</th>\n",
       "      <th>Student</th>\n",
       "      <th>Duration</th>\n",
       "      <th>NumberRatings</th>\n",
       "      <th>Enrollment</th>\n",
       "      <th>LastUpdated</th>\n",
       "      <th>Fee</th>\n",
       "      <th>Discount</th>\n",
       "      <th>cbrt_NumberRatings</th>\n",
       "      <th>cbrt_Enrollment</th>\n",
       "      <th>cbrt_Student</th>\n",
       "    </tr>\n",
       "  </thead>\n",
       "  <tbody>\n",
       "    <tr>\n",
       "      <th>count</th>\n",
       "      <td>1889.000000</td>\n",
       "      <td>1.889000e+03</td>\n",
       "      <td>1889.000000</td>\n",
       "      <td>1889.000000</td>\n",
       "      <td>1889.000000</td>\n",
       "      <td>1889.000000</td>\n",
       "      <td>1889.000000</td>\n",
       "      <td>1889.000000</td>\n",
       "      <td>1889.000000</td>\n",
       "      <td>1889.000000</td>\n",
       "      <td>1889.000000</td>\n",
       "    </tr>\n",
       "    <tr>\n",
       "      <th>mean</th>\n",
       "      <td>4.430334</td>\n",
       "      <td>2.122974e+05</td>\n",
       "      <td>11.782605</td>\n",
       "      <td>3616.598200</td>\n",
       "      <td>20035.923240</td>\n",
       "      <td>3.758602</td>\n",
       "      <td>22.505267</td>\n",
       "      <td>78.586554</td>\n",
       "      <td>12.615204</td>\n",
       "      <td>22.861813</td>\n",
       "      <td>46.198698</td>\n",
       "    </tr>\n",
       "    <tr>\n",
       "      <th>std</th>\n",
       "      <td>0.188369</td>\n",
       "      <td>3.594932e+05</td>\n",
       "      <td>13.077027</td>\n",
       "      <td>6632.710084</td>\n",
       "      <td>30760.211009</td>\n",
       "      <td>1.292892</td>\n",
       "      <td>19.628230</td>\n",
       "      <td>16.441507</td>\n",
       "      <td>5.885911</td>\n",
       "      <td>10.080773</td>\n",
       "      <td>26.404482</td>\n",
       "    </tr>\n",
       "    <tr>\n",
       "      <th>min</th>\n",
       "      <td>3.800000</td>\n",
       "      <td>5.500000e+01</td>\n",
       "      <td>0.500000</td>\n",
       "      <td>17.000000</td>\n",
       "      <td>36.000000</td>\n",
       "      <td>3.000000</td>\n",
       "      <td>12.570000</td>\n",
       "      <td>30.000000</td>\n",
       "      <td>2.571282</td>\n",
       "      <td>3.301927</td>\n",
       "      <td>3.802952</td>\n",
       "    </tr>\n",
       "    <tr>\n",
       "      <th>25%</th>\n",
       "      <td>4.300000</td>\n",
       "      <td>1.666900e+04</td>\n",
       "      <td>4.330000</td>\n",
       "      <td>625.000000</td>\n",
       "      <td>3830.000000</td>\n",
       "      <td>3.000000</td>\n",
       "      <td>16.990000</td>\n",
       "      <td>74.000000</td>\n",
       "      <td>8.549880</td>\n",
       "      <td>15.645865</td>\n",
       "      <td>25.544840</td>\n",
       "    </tr>\n",
       "    <tr>\n",
       "      <th>50%</th>\n",
       "      <td>4.500000</td>\n",
       "      <td>6.346200e+04</td>\n",
       "      <td>7.780000</td>\n",
       "      <td>1438.000000</td>\n",
       "      <td>9380.000000</td>\n",
       "      <td>3.000000</td>\n",
       "      <td>17.990000</td>\n",
       "      <td>86.000000</td>\n",
       "      <td>11.287202</td>\n",
       "      <td>21.089565</td>\n",
       "      <td>39.887601</td>\n",
       "    </tr>\n",
       "    <tr>\n",
       "      <th>75%</th>\n",
       "      <td>4.600000</td>\n",
       "      <td>2.320790e+05</td>\n",
       "      <td>14.170000</td>\n",
       "      <td>3459.000000</td>\n",
       "      <td>20743.000000</td>\n",
       "      <td>4.000000</td>\n",
       "      <td>21.990000</td>\n",
       "      <td>89.000000</td>\n",
       "      <td>15.123426</td>\n",
       "      <td>27.476233</td>\n",
       "      <td>61.453310</td>\n",
       "    </tr>\n",
       "    <tr>\n",
       "      <th>max</th>\n",
       "      <td>4.800000</td>\n",
       "      <td>2.168985e+06</td>\n",
       "      <td>164.000000</td>\n",
       "      <td>61471.000000</td>\n",
       "      <td>214121.000000</td>\n",
       "      <td>12.000000</td>\n",
       "      <td>199.990000</td>\n",
       "      <td>92.000000</td>\n",
       "      <td>39.466029</td>\n",
       "      <td>59.825512</td>\n",
       "      <td>129.445070</td>\n",
       "    </tr>\n",
       "  </tbody>\n",
       "</table>\n",
       "</div>"
      ],
      "text/plain": [
       "        InstRating       Student     Duration  NumberRatings     Enrollment  \\\n",
       "count  1889.000000  1.889000e+03  1889.000000    1889.000000    1889.000000   \n",
       "mean      4.430334  2.122974e+05    11.782605    3616.598200   20035.923240   \n",
       "std       0.188369  3.594932e+05    13.077027    6632.710084   30760.211009   \n",
       "min       3.800000  5.500000e+01     0.500000      17.000000      36.000000   \n",
       "25%       4.300000  1.666900e+04     4.330000     625.000000    3830.000000   \n",
       "50%       4.500000  6.346200e+04     7.780000    1438.000000    9380.000000   \n",
       "75%       4.600000  2.320790e+05    14.170000    3459.000000   20743.000000   \n",
       "max       4.800000  2.168985e+06   164.000000   61471.000000  214121.000000   \n",
       "\n",
       "       LastUpdated          Fee     Discount  cbrt_NumberRatings  \\\n",
       "count  1889.000000  1889.000000  1889.000000         1889.000000   \n",
       "mean      3.758602    22.505267    78.586554           12.615204   \n",
       "std       1.292892    19.628230    16.441507            5.885911   \n",
       "min       3.000000    12.570000    30.000000            2.571282   \n",
       "25%       3.000000    16.990000    74.000000            8.549880   \n",
       "50%       3.000000    17.990000    86.000000           11.287202   \n",
       "75%       4.000000    21.990000    89.000000           15.123426   \n",
       "max      12.000000   199.990000    92.000000           39.466029   \n",
       "\n",
       "       cbrt_Enrollment  cbrt_Student  \n",
       "count      1889.000000   1889.000000  \n",
       "mean         22.861813     46.198698  \n",
       "std          10.080773     26.404482  \n",
       "min           3.301927      3.802952  \n",
       "25%          15.645865     25.544840  \n",
       "50%          21.089565     39.887601  \n",
       "75%          27.476233     61.453310  \n",
       "max          59.825512    129.445070  "
      ]
     },
     "execution_count": 90,
     "metadata": {},
     "output_type": "execute_result"
    }
   ],
   "source": [
    "df.drop('Unnamed: 0', axis=1, inplace=True)\n",
    "df.describe()"
   ]
  },
  {
   "cell_type": "code",
   "execution_count": 91,
   "id": "7116fc82",
   "metadata": {},
   "outputs": [
    {
     "data": {
      "text/plain": [
       "CourseCategory        0\n",
       "InstRating            0\n",
       "Student               0\n",
       "Duration              0\n",
       "NumberRatings         0\n",
       "Enrollment            0\n",
       "LastUpdated           0\n",
       "Fee                   0\n",
       "Discount              0\n",
       "cbrt_NumberRatings    0\n",
       "cbrt_Enrollment       0\n",
       "cbrt_Student          0\n",
       "dtype: int64"
      ]
     },
     "execution_count": 91,
     "metadata": {},
     "output_type": "execute_result"
    }
   ],
   "source": [
    "df.isnull().sum()"
   ]
  },
  {
   "cell_type": "markdown",
   "id": "b3e6ae5b",
   "metadata": {},
   "source": [
    "### b. Print out the correlation of the features. Plot the heatmap of the correlation."
   ]
  },
  {
   "cell_type": "code",
   "execution_count": 92,
   "id": "5ddbfe18",
   "metadata": {},
   "outputs": [
    {
     "data": {
      "text/html": [
       "<div>\n",
       "<style scoped>\n",
       "    .dataframe tbody tr th:only-of-type {\n",
       "        vertical-align: middle;\n",
       "    }\n",
       "\n",
       "    .dataframe tbody tr th {\n",
       "        vertical-align: top;\n",
       "    }\n",
       "\n",
       "    .dataframe thead th {\n",
       "        text-align: right;\n",
       "    }\n",
       "</style>\n",
       "<table border=\"1\" class=\"dataframe\">\n",
       "  <thead>\n",
       "    <tr style=\"text-align: right;\">\n",
       "      <th></th>\n",
       "      <th>InstRating</th>\n",
       "      <th>Student</th>\n",
       "      <th>Duration</th>\n",
       "      <th>NumberRatings</th>\n",
       "      <th>Enrollment</th>\n",
       "      <th>LastUpdated</th>\n",
       "      <th>Fee</th>\n",
       "      <th>Discount</th>\n",
       "      <th>cbrt_NumberRatings</th>\n",
       "      <th>cbrt_Enrollment</th>\n",
       "      <th>cbrt_Student</th>\n",
       "    </tr>\n",
       "  </thead>\n",
       "  <tbody>\n",
       "    <tr>\n",
       "      <th>InstRating</th>\n",
       "      <td>1.000000</td>\n",
       "      <td>0.162878</td>\n",
       "      <td>0.004396</td>\n",
       "      <td>0.241002</td>\n",
       "      <td>0.235027</td>\n",
       "      <td>-0.042774</td>\n",
       "      <td>-0.033564</td>\n",
       "      <td>-0.010058</td>\n",
       "      <td>0.350305</td>\n",
       "      <td>0.341526</td>\n",
       "      <td>0.254336</td>\n",
       "    </tr>\n",
       "    <tr>\n",
       "      <th>Student</th>\n",
       "      <td>0.162878</td>\n",
       "      <td>1.000000</td>\n",
       "      <td>0.033892</td>\n",
       "      <td>0.299075</td>\n",
       "      <td>0.404642</td>\n",
       "      <td>-0.015158</td>\n",
       "      <td>-0.024874</td>\n",
       "      <td>-0.022123</td>\n",
       "      <td>0.362795</td>\n",
       "      <td>0.440256</td>\n",
       "      <td>0.892173</td>\n",
       "    </tr>\n",
       "    <tr>\n",
       "      <th>Duration</th>\n",
       "      <td>0.004396</td>\n",
       "      <td>0.033892</td>\n",
       "      <td>1.000000</td>\n",
       "      <td>0.030856</td>\n",
       "      <td>0.025717</td>\n",
       "      <td>-0.104344</td>\n",
       "      <td>-0.006004</td>\n",
       "      <td>0.001558</td>\n",
       "      <td>0.022580</td>\n",
       "      <td>0.016261</td>\n",
       "      <td>0.041676</td>\n",
       "    </tr>\n",
       "    <tr>\n",
       "      <th>NumberRatings</th>\n",
       "      <td>0.241002</td>\n",
       "      <td>0.299075</td>\n",
       "      <td>0.030856</td>\n",
       "      <td>1.000000</td>\n",
       "      <td>0.897299</td>\n",
       "      <td>-0.015795</td>\n",
       "      <td>-0.008264</td>\n",
       "      <td>0.013976</td>\n",
       "      <td>0.886258</td>\n",
       "      <td>0.785116</td>\n",
       "      <td>0.381979</td>\n",
       "    </tr>\n",
       "    <tr>\n",
       "      <th>Enrollment</th>\n",
       "      <td>0.235027</td>\n",
       "      <td>0.404642</td>\n",
       "      <td>0.025717</td>\n",
       "      <td>0.897299</td>\n",
       "      <td>1.000000</td>\n",
       "      <td>0.000650</td>\n",
       "      <td>-0.004590</td>\n",
       "      <td>0.021483</td>\n",
       "      <td>0.853936</td>\n",
       "      <td>0.902370</td>\n",
       "      <td>0.486774</td>\n",
       "    </tr>\n",
       "    <tr>\n",
       "      <th>LastUpdated</th>\n",
       "      <td>-0.042774</td>\n",
       "      <td>-0.015158</td>\n",
       "      <td>-0.104344</td>\n",
       "      <td>-0.015795</td>\n",
       "      <td>0.000650</td>\n",
       "      <td>1.000000</td>\n",
       "      <td>0.033348</td>\n",
       "      <td>-0.064423</td>\n",
       "      <td>-0.006474</td>\n",
       "      <td>0.008327</td>\n",
       "      <td>-0.024086</td>\n",
       "    </tr>\n",
       "    <tr>\n",
       "      <th>Fee</th>\n",
       "      <td>-0.033564</td>\n",
       "      <td>-0.024874</td>\n",
       "      <td>-0.006004</td>\n",
       "      <td>-0.008264</td>\n",
       "      <td>-0.004590</td>\n",
       "      <td>0.033348</td>\n",
       "      <td>1.000000</td>\n",
       "      <td>0.040300</td>\n",
       "      <td>-0.030327</td>\n",
       "      <td>-0.028757</td>\n",
       "      <td>-0.035274</td>\n",
       "    </tr>\n",
       "    <tr>\n",
       "      <th>Discount</th>\n",
       "      <td>-0.010058</td>\n",
       "      <td>-0.022123</td>\n",
       "      <td>0.001558</td>\n",
       "      <td>0.013976</td>\n",
       "      <td>0.021483</td>\n",
       "      <td>-0.064423</td>\n",
       "      <td>0.040300</td>\n",
       "      <td>1.000000</td>\n",
       "      <td>0.009731</td>\n",
       "      <td>0.021678</td>\n",
       "      <td>-0.028261</td>\n",
       "    </tr>\n",
       "    <tr>\n",
       "      <th>cbrt_NumberRatings</th>\n",
       "      <td>0.350305</td>\n",
       "      <td>0.362795</td>\n",
       "      <td>0.022580</td>\n",
       "      <td>0.886258</td>\n",
       "      <td>0.853936</td>\n",
       "      <td>-0.006474</td>\n",
       "      <td>-0.030327</td>\n",
       "      <td>0.009731</td>\n",
       "      <td>1.000000</td>\n",
       "      <td>0.922106</td>\n",
       "      <td>0.495459</td>\n",
       "    </tr>\n",
       "    <tr>\n",
       "      <th>cbrt_Enrollment</th>\n",
       "      <td>0.341526</td>\n",
       "      <td>0.440256</td>\n",
       "      <td>0.016261</td>\n",
       "      <td>0.785116</td>\n",
       "      <td>0.902370</td>\n",
       "      <td>0.008327</td>\n",
       "      <td>-0.028757</td>\n",
       "      <td>0.021678</td>\n",
       "      <td>0.922106</td>\n",
       "      <td>1.000000</td>\n",
       "      <td>0.586839</td>\n",
       "    </tr>\n",
       "    <tr>\n",
       "      <th>cbrt_Student</th>\n",
       "      <td>0.254336</td>\n",
       "      <td>0.892173</td>\n",
       "      <td>0.041676</td>\n",
       "      <td>0.381979</td>\n",
       "      <td>0.486774</td>\n",
       "      <td>-0.024086</td>\n",
       "      <td>-0.035274</td>\n",
       "      <td>-0.028261</td>\n",
       "      <td>0.495459</td>\n",
       "      <td>0.586839</td>\n",
       "      <td>1.000000</td>\n",
       "    </tr>\n",
       "  </tbody>\n",
       "</table>\n",
       "</div>"
      ],
      "text/plain": [
       "                    InstRating   Student  Duration  NumberRatings  Enrollment  \\\n",
       "InstRating            1.000000  0.162878  0.004396       0.241002    0.235027   \n",
       "Student               0.162878  1.000000  0.033892       0.299075    0.404642   \n",
       "Duration              0.004396  0.033892  1.000000       0.030856    0.025717   \n",
       "NumberRatings         0.241002  0.299075  0.030856       1.000000    0.897299   \n",
       "Enrollment            0.235027  0.404642  0.025717       0.897299    1.000000   \n",
       "LastUpdated          -0.042774 -0.015158 -0.104344      -0.015795    0.000650   \n",
       "Fee                  -0.033564 -0.024874 -0.006004      -0.008264   -0.004590   \n",
       "Discount             -0.010058 -0.022123  0.001558       0.013976    0.021483   \n",
       "cbrt_NumberRatings    0.350305  0.362795  0.022580       0.886258    0.853936   \n",
       "cbrt_Enrollment       0.341526  0.440256  0.016261       0.785116    0.902370   \n",
       "cbrt_Student          0.254336  0.892173  0.041676       0.381979    0.486774   \n",
       "\n",
       "                    LastUpdated       Fee  Discount  cbrt_NumberRatings  \\\n",
       "InstRating            -0.042774 -0.033564 -0.010058            0.350305   \n",
       "Student               -0.015158 -0.024874 -0.022123            0.362795   \n",
       "Duration              -0.104344 -0.006004  0.001558            0.022580   \n",
       "NumberRatings         -0.015795 -0.008264  0.013976            0.886258   \n",
       "Enrollment             0.000650 -0.004590  0.021483            0.853936   \n",
       "LastUpdated            1.000000  0.033348 -0.064423           -0.006474   \n",
       "Fee                    0.033348  1.000000  0.040300           -0.030327   \n",
       "Discount              -0.064423  0.040300  1.000000            0.009731   \n",
       "cbrt_NumberRatings    -0.006474 -0.030327  0.009731            1.000000   \n",
       "cbrt_Enrollment        0.008327 -0.028757  0.021678            0.922106   \n",
       "cbrt_Student          -0.024086 -0.035274 -0.028261            0.495459   \n",
       "\n",
       "                    cbrt_Enrollment  cbrt_Student  \n",
       "InstRating                 0.341526      0.254336  \n",
       "Student                    0.440256      0.892173  \n",
       "Duration                   0.016261      0.041676  \n",
       "NumberRatings              0.785116      0.381979  \n",
       "Enrollment                 0.902370      0.486774  \n",
       "LastUpdated                0.008327     -0.024086  \n",
       "Fee                       -0.028757     -0.035274  \n",
       "Discount                   0.021678     -0.028261  \n",
       "cbrt_NumberRatings         0.922106      0.495459  \n",
       "cbrt_Enrollment            1.000000      0.586839  \n",
       "cbrt_Student               0.586839      1.000000  "
      ]
     },
     "execution_count": 92,
     "metadata": {},
     "output_type": "execute_result"
    }
   ],
   "source": [
    "df.corr()"
   ]
  },
  {
   "cell_type": "code",
   "execution_count": 93,
   "id": "89ba09e2",
   "metadata": {},
   "outputs": [
    {
     "data": {
      "text/plain": [
       "<Axes: >"
      ]
     },
     "execution_count": 93,
     "metadata": {},
     "output_type": "execute_result"
    },
    {
     "data": {
      "image/png": "[encoded data removed]",
      "text/plain": [
       "<Figure size 640x480 with 2 Axes>"
      ]
     },
     "metadata": {},
     "output_type": "display_data"
    }
   ],
   "source": [
    "seab.heatmap(df.corr())"
   ]
  },
  {
   "cell_type": "markdown",
   "id": "9ae8a9cf",
   "metadata": {},
   "source": [
    "### c. Univariate Analysis"
   ]
  },
  {
   "cell_type": "code",
   "execution_count": 94,
   "id": "653a680c",
   "metadata": {
    "scrolled": true
   },
   "outputs": [
    {
     "data": {
      "text/plain": [
       "<Axes: xlabel='cbrt_NumberRatings', ylabel='Density'>"
      ]
     },
     "execution_count": 94,
     "metadata": {},
     "output_type": "execute_result"
    },
    {
     "data": {
      "image/png": "[encoded data removed]",
      "text/plain": [
       "<Figure size 640x480 with 1 Axes>"
      ]
     },
     "metadata": {},
     "output_type": "display_data"
    }
   ],
   "source": [
    "# distribution plot\n",
    "\n",
    "seab.distplot(df.cbrt_NumberRatings, fit=norm)"
   ]
  },
  {
   "cell_type": "markdown",
   "id": "1290b7a6",
   "metadata": {},
   "source": [
    "#### Most of the Number of  rating are at the range of  0 - 30. Number of ratings where high around 15  and the density value was between 0.08-0.10"
   ]
  },
  {
   "cell_type": "code",
   "execution_count": 95,
   "id": "b694d137",
   "metadata": {},
   "outputs": [
    {
     "data": {
      "text/plain": [
       "Text(0.5, 0, 'cbrt_NumberRatings')"
      ]
     },
     "execution_count": 95,
     "metadata": {},
     "output_type": "execute_result"
    },
    {
     "data": {
      "image/png": "[encoded data removed]",
      "text/plain": [
       "<Figure size 640x480 with 1 Axes>"
      ]
     },
     "metadata": {},
     "output_type": "display_data"
    }
   ],
   "source": [
    "# boxplot\n",
    "seab.boxplot(df.cbrt_NumberRatings)\n",
    "plt.title('Boxplot of cbrt_NumberRatings')\n",
    "plt.xlabel('cbrt_NumberRatings')"
   ]
  },
  {
   "cell_type": "markdown",
   "id": "d7099803",
   "metadata": {},
   "source": [
    "#### It can be noted that Number Ratings lies between 7-15"
   ]
  },
  {
   "cell_type": "code",
   "execution_count": 96,
   "id": "f73768d7",
   "metadata": {},
   "outputs": [],
   "source": [
    "# Find the index of records where cbrt_NumberRatings > 30 and drop them. Plot its distribution again\n",
    "\n",
    "index =df[df['cbrt_NumberRatings']> 30].index\n",
    "df.drop(index ,inplace = True)"
   ]
  },
  {
   "cell_type": "code",
   "execution_count": 97,
   "id": "e9ded28e",
   "metadata": {},
   "outputs": [
    {
     "data": {
      "text/plain": [
       "Text(0.5, 0, 'cbrt_NumberRatings')"
      ]
     },
     "execution_count": 97,
     "metadata": {},
     "output_type": "execute_result"
    },
    {
     "data": {
      "image/png": "[encoded data removed]",
      "text/plain": [
       "<Figure size 640x480 with 1 Axes>"
      ]
     },
     "metadata": {},
     "output_type": "display_data"
    }
   ],
   "source": [
    "# boxplot\n",
    "seab.boxplot(df.cbrt_NumberRatings)\n",
    "plt.title('Boxplot of cbrt_NumberRatings')\n",
    "plt.xlabel('cbrt_NumberRatings')"
   ]
  },
  {
   "cell_type": "markdown",
   "id": "6c70b7b8",
   "metadata": {},
   "source": [
    "### d. Multivariate Analysis"
   ]
  },
  {
   "cell_type": "code",
   "execution_count": 98,
   "id": "1a20c6a1",
   "metadata": {},
   "outputs": [
    {
     "data": {
      "text/plain": [
       "Text(0.5, 1.0, ' cbrt_NumberRatings vs cbrt_Student')"
      ]
     },
     "execution_count": 98,
     "metadata": {},
     "output_type": "execute_result"
    },
    {
     "data": {
      "image/png": "[encoded data removed]",
      "text/plain": [
       "<Figure size 640x480 with 1 Axes>"
      ]
     },
     "metadata": {},
     "output_type": "display_data"
    }
   ],
   "source": [
    "# Scatter plot\n",
    "plt.scatter(df.cbrt_NumberRatings,df.cbrt_Student)\n",
    "plt.title(\" cbrt_NumberRatings vs cbrt_Student\")"
   ]
  },
  {
   "cell_type": "code",
   "execution_count": 99,
   "id": "994e71ad",
   "metadata": {},
   "outputs": [
    {
     "data": {
      "text/plain": [
       "Text(0.5, 1.0, ' cbrt_NumberRatings vs cbrt_Enrollment')"
      ]
     },
     "execution_count": 99,
     "metadata": {},
     "output_type": "execute_result"
    },
    {
     "data": {
      "image/png": "[encoded data removed]",
      "text/plain": [
       "<Figure size 640x480 with 1 Axes>"
      ]
     },
     "metadata": {},
     "output_type": "display_data"
    }
   ],
   "source": [
    "plt.scatter(df.cbrt_NumberRatings,df.cbrt_Enrollment)\n",
    "plt.title(\" cbrt_NumberRatings vs cbrt_Enrollment\")"
   ]
  },
  {
   "cell_type": "markdown",
   "id": "8dbaf695",
   "metadata": {},
   "source": [
    "### e.Feature Observation and Hypothesis"
   ]
  },
  {
   "cell_type": "markdown",
   "id": "3acd0615",
   "metadata": {},
   "source": [
    "#### We generate observations and create hypotheses for the regression model based on the exploratory data analysis. Observations can represent connections between features, prospective outliers, or skewed distributions that could need to be transformed."
   ]
  },
  {
   "cell_type": "markdown",
   "id": "638ffca5",
   "metadata": {},
   "source": [
    "### 4. Feature Selection"
   ]
  },
  {
   "cell_type": "code",
   "execution_count": 100,
   "id": "e5290162",
   "metadata": {},
   "outputs": [],
   "source": [
    "#a.\n",
    "df1=df.copy()\n",
    "target=df.cbrt_NumberRatings\n",
    "features=df1.drop(\"cbrt_NumberRatings\",axis=1)"
   ]
  },
  {
   "cell_type": "code",
   "execution_count": 101,
   "id": "75aacb84",
   "metadata": {
    "scrolled": true
   },
   "outputs": [
    {
     "data": {
      "text/html": [
       "<div>\n",
       "<style scoped>\n",
       "    .dataframe tbody tr th:only-of-type {\n",
       "        vertical-align: middle;\n",
       "    }\n",
       "\n",
       "    .dataframe tbody tr th {\n",
       "        vertical-align: top;\n",
       "    }\n",
       "\n",
       "    .dataframe thead th {\n",
       "        text-align: right;\n",
       "    }\n",
       "</style>\n",
       "<table border=\"1\" class=\"dataframe\">\n",
       "  <thead>\n",
       "    <tr style=\"text-align: right;\">\n",
       "      <th></th>\n",
       "      <th>InstRating</th>\n",
       "      <th>Student</th>\n",
       "      <th>Duration</th>\n",
       "      <th>NumberRatings</th>\n",
       "      <th>Enrollment</th>\n",
       "      <th>LastUpdated</th>\n",
       "      <th>Fee</th>\n",
       "      <th>Discount</th>\n",
       "      <th>cbrt_NumberRatings</th>\n",
       "      <th>cbrt_Enrollment</th>\n",
       "      <th>cbrt_Student</th>\n",
       "    </tr>\n",
       "  </thead>\n",
       "  <tbody>\n",
       "    <tr>\n",
       "      <th>cbrt_NumberRatings</th>\n",
       "      <td>0.340109</td>\n",
       "      <td>0.338432</td>\n",
       "      <td>0.023012</td>\n",
       "      <td>0.910056</td>\n",
       "      <td>0.812101</td>\n",
       "      <td>0.005786</td>\n",
       "      <td>0.039784</td>\n",
       "      <td>0.003657</td>\n",
       "      <td>1.000000</td>\n",
       "      <td>0.907529</td>\n",
       "      <td>0.479470</td>\n",
       "    </tr>\n",
       "    <tr>\n",
       "      <th>NumberRatings</th>\n",
       "      <td>0.239651</td>\n",
       "      <td>0.293411</td>\n",
       "      <td>0.033808</td>\n",
       "      <td>1.000000</td>\n",
       "      <td>0.852942</td>\n",
       "      <td>0.017544</td>\n",
       "      <td>0.021870</td>\n",
       "      <td>0.003936</td>\n",
       "      <td>0.910056</td>\n",
       "      <td>0.803768</td>\n",
       "      <td>0.395576</td>\n",
       "    </tr>\n",
       "    <tr>\n",
       "      <th>cbrt_Enrollment</th>\n",
       "      <td>0.324782</td>\n",
       "      <td>0.421720</td>\n",
       "      <td>0.016014</td>\n",
       "      <td>0.803768</td>\n",
       "      <td>0.907973</td>\n",
       "      <td>0.008796</td>\n",
       "      <td>0.034599</td>\n",
       "      <td>0.019129</td>\n",
       "      <td>0.907529</td>\n",
       "      <td>1.000000</td>\n",
       "      <td>0.574600</td>\n",
       "    </tr>\n",
       "    <tr>\n",
       "      <th>Enrollment</th>\n",
       "      <td>0.210852</td>\n",
       "      <td>0.401503</td>\n",
       "      <td>0.027517</td>\n",
       "      <td>0.852942</td>\n",
       "      <td>1.000000</td>\n",
       "      <td>0.000513</td>\n",
       "      <td>0.008289</td>\n",
       "      <td>0.019027</td>\n",
       "      <td>0.812101</td>\n",
       "      <td>0.907973</td>\n",
       "      <td>0.491663</td>\n",
       "    </tr>\n",
       "    <tr>\n",
       "      <th>cbrt_Student</th>\n",
       "      <td>0.240427</td>\n",
       "      <td>0.890229</td>\n",
       "      <td>0.041866</td>\n",
       "      <td>0.395576</td>\n",
       "      <td>0.491663</td>\n",
       "      <td>0.024426</td>\n",
       "      <td>0.038486</td>\n",
       "      <td>0.029014</td>\n",
       "      <td>0.479470</td>\n",
       "      <td>0.574600</td>\n",
       "      <td>1.000000</td>\n",
       "    </tr>\n",
       "    <tr>\n",
       "      <th>InstRating</th>\n",
       "      <td>1.000000</td>\n",
       "      <td>0.151345</td>\n",
       "      <td>0.003883</td>\n",
       "      <td>0.239651</td>\n",
       "      <td>0.210852</td>\n",
       "      <td>0.042531</td>\n",
       "      <td>0.035276</td>\n",
       "      <td>0.011585</td>\n",
       "      <td>0.340109</td>\n",
       "      <td>0.324782</td>\n",
       "      <td>0.240427</td>\n",
       "    </tr>\n",
       "    <tr>\n",
       "      <th>Student</th>\n",
       "      <td>0.151345</td>\n",
       "      <td>1.000000</td>\n",
       "      <td>0.032987</td>\n",
       "      <td>0.293411</td>\n",
       "      <td>0.401503</td>\n",
       "      <td>0.014712</td>\n",
       "      <td>0.027655</td>\n",
       "      <td>0.021519</td>\n",
       "      <td>0.338432</td>\n",
       "      <td>0.421720</td>\n",
       "      <td>0.890229</td>\n",
       "    </tr>\n",
       "    <tr>\n",
       "      <th>Fee</th>\n",
       "      <td>0.035276</td>\n",
       "      <td>0.027655</td>\n",
       "      <td>0.005404</td>\n",
       "      <td>0.021870</td>\n",
       "      <td>0.008289</td>\n",
       "      <td>0.037242</td>\n",
       "      <td>1.000000</td>\n",
       "      <td>0.038377</td>\n",
       "      <td>0.039784</td>\n",
       "      <td>0.034599</td>\n",
       "      <td>0.038486</td>\n",
       "    </tr>\n",
       "    <tr>\n",
       "      <th>Duration</th>\n",
       "      <td>0.003883</td>\n",
       "      <td>0.032987</td>\n",
       "      <td>1.000000</td>\n",
       "      <td>0.033808</td>\n",
       "      <td>0.027517</td>\n",
       "      <td>0.101499</td>\n",
       "      <td>0.005404</td>\n",
       "      <td>0.001122</td>\n",
       "      <td>0.023012</td>\n",
       "      <td>0.016014</td>\n",
       "      <td>0.041866</td>\n",
       "    </tr>\n",
       "    <tr>\n",
       "      <th>LastUpdated</th>\n",
       "      <td>0.042531</td>\n",
       "      <td>0.014712</td>\n",
       "      <td>0.101499</td>\n",
       "      <td>0.017544</td>\n",
       "      <td>0.000513</td>\n",
       "      <td>1.000000</td>\n",
       "      <td>0.037242</td>\n",
       "      <td>0.064972</td>\n",
       "      <td>0.005786</td>\n",
       "      <td>0.008796</td>\n",
       "      <td>0.024426</td>\n",
       "    </tr>\n",
       "    <tr>\n",
       "      <th>Discount</th>\n",
       "      <td>0.011585</td>\n",
       "      <td>0.021519</td>\n",
       "      <td>0.001122</td>\n",
       "      <td>0.003936</td>\n",
       "      <td>0.019027</td>\n",
       "      <td>0.064972</td>\n",
       "      <td>0.038377</td>\n",
       "      <td>1.000000</td>\n",
       "      <td>0.003657</td>\n",
       "      <td>0.019129</td>\n",
       "      <td>0.029014</td>\n",
       "    </tr>\n",
       "  </tbody>\n",
       "</table>\n",
       "</div>"
      ],
      "text/plain": [
       "                    InstRating   Student  Duration  NumberRatings  Enrollment  \\\n",
       "cbrt_NumberRatings    0.340109  0.338432  0.023012       0.910056    0.812101   \n",
       "NumberRatings         0.239651  0.293411  0.033808       1.000000    0.852942   \n",
       "cbrt_Enrollment       0.324782  0.421720  0.016014       0.803768    0.907973   \n",
       "Enrollment            0.210852  0.401503  0.027517       0.852942    1.000000   \n",
       "cbrt_Student          0.240427  0.890229  0.041866       0.395576    0.491663   \n",
       "InstRating            1.000000  0.151345  0.003883       0.239651    0.210852   \n",
       "Student               0.151345  1.000000  0.032987       0.293411    0.401503   \n",
       "Fee                   0.035276  0.027655  0.005404       0.021870    0.008289   \n",
       "Duration              0.003883  0.032987  1.000000       0.033808    0.027517   \n",
       "LastUpdated           0.042531  0.014712  0.101499       0.017544    0.000513   \n",
       "Discount              0.011585  0.021519  0.001122       0.003936    0.019027   \n",
       "\n",
       "                    LastUpdated       Fee  Discount  cbrt_NumberRatings  \\\n",
       "cbrt_NumberRatings     0.005786  0.039784  0.003657            1.000000   \n",
       "NumberRatings          0.017544  0.021870  0.003936            0.910056   \n",
       "cbrt_Enrollment        0.008796  0.034599  0.019129            0.907529   \n",
       "Enrollment             0.000513  0.008289  0.019027            0.812101   \n",
       "cbrt_Student           0.024426  0.038486  0.029014            0.479470   \n",
       "InstRating             0.042531  0.035276  0.011585            0.340109   \n",
       "Student                0.014712  0.027655  0.021519            0.338432   \n",
       "Fee                    0.037242  1.000000  0.038377            0.039784   \n",
       "Duration               0.101499  0.005404  0.001122            0.023012   \n",
       "LastUpdated            1.000000  0.037242  0.064972            0.005786   \n",
       "Discount               0.064972  0.038377  1.000000            0.003657   \n",
       "\n",
       "                    cbrt_Enrollment  cbrt_Student  \n",
       "cbrt_NumberRatings         0.907529      0.479470  \n",
       "NumberRatings              0.803768      0.395576  \n",
       "cbrt_Enrollment            1.000000      0.574600  \n",
       "Enrollment                 0.907973      0.491663  \n",
       "cbrt_Student               0.574600      1.000000  \n",
       "InstRating                 0.324782      0.240427  \n",
       "Student                    0.421720      0.890229  \n",
       "Fee                        0.034599      0.038486  \n",
       "Duration                   0.016014      0.041866  \n",
       "LastUpdated                0.008796      0.024426  \n",
       "Discount                   0.019129      0.029014  "
      ]
     },
     "execution_count": 101,
     "metadata": {},
     "output_type": "execute_result"
    }
   ],
   "source": [
    "# b. Correlation Based Selection (manual or threshold)\n",
    "df.corr().abs().sort_values(\"cbrt_NumberRatings\",axis=0,ascending=False)"
   ]
  },
  {
   "cell_type": "code",
   "execution_count": 102,
   "id": "e1035d1f",
   "metadata": {},
   "outputs": [
    {
     "data": {
      "text/html": [
       "<div>\n",
       "<style scoped>\n",
       "    .dataframe tbody tr th:only-of-type {\n",
       "        vertical-align: middle;\n",
       "    }\n",
       "\n",
       "    .dataframe tbody tr th {\n",
       "        vertical-align: top;\n",
       "    }\n",
       "\n",
       "    .dataframe thead th {\n",
       "        text-align: right;\n",
       "    }\n",
       "</style>\n",
       "<table border=\"1\" class=\"dataframe\">\n",
       "  <thead>\n",
       "    <tr style=\"text-align: right;\">\n",
       "      <th></th>\n",
       "      <th>NumberRatings</th>\n",
       "      <th>cbrt_Enrollment</th>\n",
       "      <th>Enrollment</th>\n",
       "      <th>cbrt_Student</th>\n",
       "      <th>InstRating</th>\n",
       "      <th>Student</th>\n",
       "      <th>Fee</th>\n",
       "      <th>Duration</th>\n",
       "    </tr>\n",
       "  </thead>\n",
       "  <tbody>\n",
       "    <tr>\n",
       "      <th>0</th>\n",
       "      <td>21837.0</td>\n",
       "      <td>48.974581</td>\n",
       "      <td>117466.0</td>\n",
       "      <td>74.041978</td>\n",
       "      <td>4.5</td>\n",
       "      <td>405914.0</td>\n",
       "      <td>19.99</td>\n",
       "      <td>9.80</td>\n",
       "    </tr>\n",
       "    <tr>\n",
       "      <th>1</th>\n",
       "      <td>1488.0</td>\n",
       "      <td>20.853094</td>\n",
       "      <td>9068.0</td>\n",
       "      <td>31.853168</td>\n",
       "      <td>4.2</td>\n",
       "      <td>32319.0</td>\n",
       "      <td>16.99</td>\n",
       "      <td>4.97</td>\n",
       "    </tr>\n",
       "    <tr>\n",
       "      <th>2</th>\n",
       "      <td>6864.0</td>\n",
       "      <td>31.409753</td>\n",
       "      <td>30988.0</td>\n",
       "      <td>72.232850</td>\n",
       "      <td>4.5</td>\n",
       "      <td>376881.0</td>\n",
       "      <td>17.99</td>\n",
       "      <td>93.15</td>\n",
       "    </tr>\n",
       "    <tr>\n",
       "      <th>3</th>\n",
       "      <td>4838.0</td>\n",
       "      <td>25.146869</td>\n",
       "      <td>15902.0</td>\n",
       "      <td>35.740678</td>\n",
       "      <td>4.7</td>\n",
       "      <td>45655.0</td>\n",
       "      <td>16.99</td>\n",
       "      <td>2.05</td>\n",
       "    </tr>\n",
       "    <tr>\n",
       "      <th>4</th>\n",
       "      <td>716.0</td>\n",
       "      <td>17.940130</td>\n",
       "      <td>5774.0</td>\n",
       "      <td>41.425278</td>\n",
       "      <td>4.4</td>\n",
       "      <td>71088.0</td>\n",
       "      <td>16.99</td>\n",
       "      <td>11.07</td>\n",
       "    </tr>\n",
       "  </tbody>\n",
       "</table>\n",
       "</div>"
      ],
      "text/plain": [
       "   NumberRatings  cbrt_Enrollment  Enrollment  cbrt_Student  InstRating  \\\n",
       "0        21837.0        48.974581    117466.0     74.041978         4.5   \n",
       "1         1488.0        20.853094      9068.0     31.853168         4.2   \n",
       "2         6864.0        31.409753     30988.0     72.232850         4.5   \n",
       "3         4838.0        25.146869     15902.0     35.740678         4.7   \n",
       "4          716.0        17.940130      5774.0     41.425278         4.4   \n",
       "\n",
       "    Student    Fee  Duration  \n",
       "0  405914.0  19.99      9.80  \n",
       "1   32319.0  16.99      4.97  \n",
       "2  376881.0  17.99     93.15  \n",
       "3   45655.0  16.99      2.05  \n",
       "4   71088.0  16.99     11.07  "
      ]
     },
     "execution_count": 102,
     "metadata": {},
     "output_type": "execute_result"
    }
   ],
   "source": [
    "df_corr = df[['NumberRatings', 'cbrt_Enrollment', 'Enrollment', 'cbrt_Student', 'InstRating', 'Student', 'Fee', 'Duration']]\n",
    "df_corr.head()\n"
   ]
  },
  {
   "cell_type": "markdown",
   "id": "2b39815f",
   "metadata": {},
   "source": [
    "### c . Variance Threshold Selection"
   ]
  },
  {
   "cell_type": "code",
   "execution_count": 103,
   "id": "37c47735",
   "metadata": {},
   "outputs": [],
   "source": [
    "numeric_features = features.select_dtypes(include=np.number)\n",
    "threshold = 2.5\n",
    "vt = VarianceThreshold(threshold=threshold)\n",
    "vt.fit(numeric_features)\n",
    "variance_df = pd.DataFrame({'variance': vt.variances_, 'select_feature': vt.get_support()}, index=numeric_features.columns)\n",
    "df_vt = features[numeric_features.columns[vt.get_support()]]"
   ]
  },
  {
   "cell_type": "code",
   "execution_count": 104,
   "id": "3a94b1e2",
   "metadata": {},
   "outputs": [
    {
     "data": {
      "text/html": [
       "<div>\n",
       "<style scoped>\n",
       "    .dataframe tbody tr th:only-of-type {\n",
       "        vertical-align: middle;\n",
       "    }\n",
       "\n",
       "    .dataframe tbody tr th {\n",
       "        vertical-align: top;\n",
       "    }\n",
       "\n",
       "    .dataframe thead th {\n",
       "        text-align: right;\n",
       "    }\n",
       "</style>\n",
       "<table border=\"1\" class=\"dataframe\">\n",
       "  <thead>\n",
       "    <tr style=\"text-align: right;\">\n",
       "      <th></th>\n",
       "      <th>Student</th>\n",
       "      <th>Duration</th>\n",
       "      <th>NumberRatings</th>\n",
       "      <th>Enrollment</th>\n",
       "      <th>Fee</th>\n",
       "      <th>Discount</th>\n",
       "      <th>cbrt_Enrollment</th>\n",
       "      <th>cbrt_Student</th>\n",
       "    </tr>\n",
       "  </thead>\n",
       "  <tbody>\n",
       "    <tr>\n",
       "      <th>0</th>\n",
       "      <td>405914.0</td>\n",
       "      <td>9.80</td>\n",
       "      <td>21837.0</td>\n",
       "      <td>117466.0</td>\n",
       "      <td>19.99</td>\n",
       "      <td>88.0</td>\n",
       "      <td>48.974581</td>\n",
       "      <td>74.041978</td>\n",
       "    </tr>\n",
       "    <tr>\n",
       "      <th>1</th>\n",
       "      <td>32319.0</td>\n",
       "      <td>4.97</td>\n",
       "      <td>1488.0</td>\n",
       "      <td>9068.0</td>\n",
       "      <td>16.99</td>\n",
       "      <td>88.0</td>\n",
       "      <td>20.853094</td>\n",
       "      <td>31.853168</td>\n",
       "    </tr>\n",
       "    <tr>\n",
       "      <th>2</th>\n",
       "      <td>376881.0</td>\n",
       "      <td>93.15</td>\n",
       "      <td>6864.0</td>\n",
       "      <td>30988.0</td>\n",
       "      <td>17.99</td>\n",
       "      <td>89.0</td>\n",
       "      <td>31.409753</td>\n",
       "      <td>72.232850</td>\n",
       "    </tr>\n",
       "    <tr>\n",
       "      <th>3</th>\n",
       "      <td>45655.0</td>\n",
       "      <td>2.05</td>\n",
       "      <td>4838.0</td>\n",
       "      <td>15902.0</td>\n",
       "      <td>16.99</td>\n",
       "      <td>80.0</td>\n",
       "      <td>25.146869</td>\n",
       "      <td>35.740678</td>\n",
       "    </tr>\n",
       "    <tr>\n",
       "      <th>4</th>\n",
       "      <td>71088.0</td>\n",
       "      <td>11.07</td>\n",
       "      <td>716.0</td>\n",
       "      <td>5774.0</td>\n",
       "      <td>16.99</td>\n",
       "      <td>83.0</td>\n",
       "      <td>17.940130</td>\n",
       "      <td>41.425278</td>\n",
       "    </tr>\n",
       "  </tbody>\n",
       "</table>\n",
       "</div>"
      ],
      "text/plain": [
       "    Student  Duration  NumberRatings  Enrollment    Fee  Discount  \\\n",
       "0  405914.0      9.80        21837.0    117466.0  19.99      88.0   \n",
       "1   32319.0      4.97         1488.0      9068.0  16.99      88.0   \n",
       "2  376881.0     93.15         6864.0     30988.0  17.99      89.0   \n",
       "3   45655.0      2.05         4838.0     15902.0  16.99      80.0   \n",
       "4   71088.0     11.07          716.0      5774.0  16.99      83.0   \n",
       "\n",
       "   cbrt_Enrollment  cbrt_Student  \n",
       "0        48.974581     74.041978  \n",
       "1        20.853094     31.853168  \n",
       "2        31.409753     72.232850  \n",
       "3        25.146869     35.740678  \n",
       "4        17.940130     41.425278  "
      ]
     },
     "execution_count": 104,
     "metadata": {},
     "output_type": "execute_result"
    }
   ],
   "source": [
    "df_vt.head()"
   ]
  },
  {
   "cell_type": "markdown",
   "id": "35f1b04a",
   "metadata": {},
   "source": [
    "### d. select K-Best method"
   ]
  },
  {
   "cell_type": "code",
   "execution_count": 105,
   "id": "b26a921c",
   "metadata": {},
   "outputs": [
    {
     "data": {
      "text/html": [
       "<div>\n",
       "<style scoped>\n",
       "    .dataframe tbody tr th:only-of-type {\n",
       "        vertical-align: middle;\n",
       "    }\n",
       "\n",
       "    .dataframe tbody tr th {\n",
       "        vertical-align: top;\n",
       "    }\n",
       "\n",
       "    .dataframe thead th {\n",
       "        text-align: right;\n",
       "    }\n",
       "</style>\n",
       "<table border=\"1\" class=\"dataframe\">\n",
       "  <thead>\n",
       "    <tr style=\"text-align: right;\">\n",
       "      <th></th>\n",
       "      <th>InstRating</th>\n",
       "      <th>Student</th>\n",
       "      <th>NumberRatings</th>\n",
       "      <th>Enrollment</th>\n",
       "      <th>Fee</th>\n",
       "      <th>cbrt_Enrollment</th>\n",
       "      <th>cbrt_Student</th>\n",
       "    </tr>\n",
       "  </thead>\n",
       "  <tbody>\n",
       "    <tr>\n",
       "      <th>0</th>\n",
       "      <td>4.4</td>\n",
       "      <td>2642.0</td>\n",
       "      <td>378.0</td>\n",
       "      <td>2642.0</td>\n",
       "      <td>19.99</td>\n",
       "      <td>13.824336</td>\n",
       "      <td>13.824336</td>\n",
       "    </tr>\n",
       "    <tr>\n",
       "      <th>1</th>\n",
       "      <td>4.5</td>\n",
       "      <td>2011894.0</td>\n",
       "      <td>6928.0</td>\n",
       "      <td>152798.0</td>\n",
       "      <td>17.99</td>\n",
       "      <td>53.461264</td>\n",
       "      <td>126.241370</td>\n",
       "    </tr>\n",
       "    <tr>\n",
       "      <th>2</th>\n",
       "      <td>4.4</td>\n",
       "      <td>324393.0</td>\n",
       "      <td>1227.0</td>\n",
       "      <td>7159.0</td>\n",
       "      <td>16.99</td>\n",
       "      <td>19.273065</td>\n",
       "      <td>68.710613</td>\n",
       "    </tr>\n",
       "    <tr>\n",
       "      <th>3</th>\n",
       "      <td>4.1</td>\n",
       "      <td>626911.0</td>\n",
       "      <td>900.0</td>\n",
       "      <td>4770.0</td>\n",
       "      <td>16.99</td>\n",
       "      <td>16.833437</td>\n",
       "      <td>85.585849</td>\n",
       "    </tr>\n",
       "    <tr>\n",
       "      <th>4</th>\n",
       "      <td>4.6</td>\n",
       "      <td>314001.0</td>\n",
       "      <td>785.0</td>\n",
       "      <td>8264.0</td>\n",
       "      <td>12.57</td>\n",
       "      <td>20.217623</td>\n",
       "      <td>67.968916</td>\n",
       "    </tr>\n",
       "    <tr>\n",
       "      <th>...</th>\n",
       "      <td>...</td>\n",
       "      <td>...</td>\n",
       "      <td>...</td>\n",
       "      <td>...</td>\n",
       "      <td>...</td>\n",
       "      <td>...</td>\n",
       "      <td>...</td>\n",
       "    </tr>\n",
       "    <tr>\n",
       "      <th>1384</th>\n",
       "      <td>4.5</td>\n",
       "      <td>104566.0</td>\n",
       "      <td>1588.0</td>\n",
       "      <td>9192.0</td>\n",
       "      <td>19.99</td>\n",
       "      <td>20.947716</td>\n",
       "      <td>47.111851</td>\n",
       "    </tr>\n",
       "    <tr>\n",
       "      <th>1385</th>\n",
       "      <td>4.5</td>\n",
       "      <td>52032.0</td>\n",
       "      <td>1305.0</td>\n",
       "      <td>12181.0</td>\n",
       "      <td>16.99</td>\n",
       "      <td>23.008818</td>\n",
       "      <td>37.332766</td>\n",
       "    </tr>\n",
       "    <tr>\n",
       "      <th>1386</th>\n",
       "      <td>4.3</td>\n",
       "      <td>47030.0</td>\n",
       "      <td>911.0</td>\n",
       "      <td>8477.0</td>\n",
       "      <td>17.99</td>\n",
       "      <td>20.389851</td>\n",
       "      <td>36.095938</td>\n",
       "    </tr>\n",
       "    <tr>\n",
       "      <th>1387</th>\n",
       "      <td>4.6</td>\n",
       "      <td>498642.0</td>\n",
       "      <td>11215.0</td>\n",
       "      <td>62426.0</td>\n",
       "      <td>17.99</td>\n",
       "      <td>39.669358</td>\n",
       "      <td>79.298131</td>\n",
       "    </tr>\n",
       "    <tr>\n",
       "      <th>1388</th>\n",
       "      <td>4.5</td>\n",
       "      <td>93654.0</td>\n",
       "      <td>4587.0</td>\n",
       "      <td>15924.0</td>\n",
       "      <td>20.99</td>\n",
       "      <td>25.158460</td>\n",
       "      <td>45.412503</td>\n",
       "    </tr>\n",
       "  </tbody>\n",
       "</table>\n",
       "<p>1389 rows × 7 columns</p>\n",
       "</div>"
      ],
      "text/plain": [
       "      InstRating    Student  NumberRatings  Enrollment    Fee  \\\n",
       "0            4.4     2642.0          378.0      2642.0  19.99   \n",
       "1            4.5  2011894.0         6928.0    152798.0  17.99   \n",
       "2            4.4   324393.0         1227.0      7159.0  16.99   \n",
       "3            4.1   626911.0          900.0      4770.0  16.99   \n",
       "4            4.6   314001.0          785.0      8264.0  12.57   \n",
       "...          ...        ...            ...         ...    ...   \n",
       "1384         4.5   104566.0         1588.0      9192.0  19.99   \n",
       "1385         4.5    52032.0         1305.0     12181.0  16.99   \n",
       "1386         4.3    47030.0          911.0      8477.0  17.99   \n",
       "1387         4.6   498642.0        11215.0     62426.0  17.99   \n",
       "1388         4.5    93654.0         4587.0     15924.0  20.99   \n",
       "\n",
       "      cbrt_Enrollment  cbrt_Student  \n",
       "0           13.824336     13.824336  \n",
       "1           53.461264    126.241370  \n",
       "2           19.273065     68.710613  \n",
       "3           16.833437     85.585849  \n",
       "4           20.217623     67.968916  \n",
       "...               ...           ...  \n",
       "1384        20.947716     47.111851  \n",
       "1385        23.008818     37.332766  \n",
       "1386        20.389851     36.095938  \n",
       "1387        39.669358     79.298131  \n",
       "1388        25.158460     45.412503  \n",
       "\n",
       "[1389 rows x 7 columns]"
      ]
     },
     "execution_count": 105,
     "metadata": {},
     "output_type": "execute_result"
    }
   ],
   "source": [
    "X_train, X_test, y_train, y_test = train_test_split(features, target, test_size=0.25, random_state=42)\n",
    "non_numeric_cols = X_train.select_dtypes(exclude=[float, int]).columns\n",
    "X_train_numeric = X_train.drop(columns=non_numeric_cols)\n",
    "Kbest = SelectKBest(score_func=f_regression, k=7)\n",
    "X_train_selected = Kbest.fit_transform(X_train_numeric, y_train)\n",
    "selected_feature_indices = Kbest.get_support(indices=True)\n",
    "selected_feature_names = X_train_numeric.columns[selected_feature_indices]\n",
    "df_selKBest = pd.DataFrame(X_train_selected, columns=selected_feature_names)\n",
    "df_selKBest\n"
   ]
  },
  {
   "cell_type": "markdown",
   "id": "60ee6b94",
   "metadata": {},
   "source": [
    "### 5.  Linear Regression Models with Feature Selection, Feature transformation and Scaling"
   ]
  },
  {
   "cell_type": "code",
   "execution_count": 106,
   "id": "2491fd1a",
   "metadata": {},
   "outputs": [],
   "source": [
    "### Creating empty lists of featire selection, transformation and scaling.\n",
    "\n",
    "fsel_list= []\n",
    "ftrans_list = []\n",
    "fscal_list = []\n",
    "r2_scores = []\n",
    "rmse_scores = []"
   ]
  },
  {
   "cell_type": "markdown",
   "id": "159c4981",
   "metadata": {},
   "source": [
    "### a. Linear Regression model with the Correlation based selected features"
   ]
  },
  {
   "cell_type": "code",
   "execution_count": 107,
   "id": "0522b0c1",
   "metadata": {},
   "outputs": [],
   "source": [
    "X_train, X_test, Y_train, Y_test = train_test_split(df_corr, target, test_size=0.25, random_state=42)\n",
    "model = LinearRegression()\n",
    "model.fit(X_train, Y_train)\n",
    "Y_pred = model.predict(X_test)\n",
    "r2= model.score(X_test, Y_test)                         # will provide rsquare value\n",
    "rmse = mean_squared_error(Y_test,Y_pred, squared=False) # will provide RMSE value\n",
    "\n",
    "fsel_list.append(\"Correlation Based\")\n",
    "ftrans_list.append(\"None\")\n",
    "fscal_list.append(\"None\")\n",
    "r2_scores.append(r2)\n",
    "rmse_scores.append(rmse)\n"
   ]
  },
  {
   "cell_type": "markdown",
   "id": "39e40275",
   "metadata": {},
   "source": [
    "### b. Linear Regression model with Correlation based selected features and Log1p transformation"
   ]
  },
  {
   "cell_type": "code",
   "execution_count": 108,
   "id": "167a1fca",
   "metadata": {},
   "outputs": [],
   "source": [
    "X_train, X_test, Y_train, Y_test = train_test_split(df_corr, target, test_size=0.25, random_state=42)\n",
    "Y_train_transformed = np.log1p(Y_train)\n",
    "model = LinearRegression()\n",
    "model.fit(X_train, Y_train_transformed)\n",
    "Y_pred_transformed = model.predict(X_test)\n",
    "Y_pred = np.expm1(Y_pred_transformed)\n",
    "r2 = model.score(X_test, Y_test)\n",
    "\n",
    "# Calculate the RMSE\n",
    "rmse = mean_squared_error(Y_test, Y_pred, squared=False)\n",
    "\n",
    "# Append the information to the lists you created initially\n",
    "fsel_list.append(\"Correlation Based\")\n",
    "ftrans_list.append(\"Log1p\")\n",
    "fscal_list.append(\"None\")\n",
    "r2_scores.append(r2)\n",
    "rmse_scores.append(rmse)"
   ]
  },
  {
   "cell_type": "markdown",
   "id": "d04c27c3",
   "metadata": {},
   "source": [
    "### c. Linear Regression model with Variance Threshold Selection"
   ]
  },
  {
   "cell_type": "code",
   "execution_count": 109,
   "id": "16916af2",
   "metadata": {},
   "outputs": [],
   "source": [
    "selector = VarianceThreshold()\n",
    "X_selected = selector.fit_transform(df_corr)\n",
    "X_train, X_test, Y_train, Y_test = train_test_split(X_selected, target, test_size=0.25, random_state=42)\n",
    "\n",
    "# Create and train the linear regression model\n",
    "model = LinearRegression()\n",
    "model.fit(X_train, Y_train)\n",
    "\n",
    "# Predict the target variable using the test set\n",
    "Y_pred = model.predict(X_test)\n",
    "\n",
    "# Calculate the R2 score\n",
    "r2 = model.score(X_test, Y_test)\n",
    "\n",
    "# Calculate the RMSE\n",
    "rmse = mean_squared_error(Y_test, Y_pred, squared=False)\n",
    "\n",
    "# Append the information to the lists you created initially\n",
    "fsel_list.append(\"Variance\")\n",
    "ftrans_list.append(\"None\")\n",
    "fscal_list.append(\"None\")\n",
    "r2_scores.append(r2)\n",
    "rmse_scores.append(rmse)\n"
   ]
  },
  {
   "cell_type": "code",
   "execution_count": 110,
   "id": "1823d8b7",
   "metadata": {},
   "outputs": [
    {
     "name": "stdout",
     "output_type": "stream",
     "text": [
      "(1852, 11)\n",
      "(1852,)\n"
     ]
    }
   ],
   "source": [
    "print(features.shape)  # Check the shape of df_selKBest\n",
    "print(target.shape)      # Check the shape of the target variable\n"
   ]
  },
  {
   "cell_type": "markdown",
   "id": "90f63d66",
   "metadata": {},
   "source": [
    "### d. Linear Regression model with SelectKBest Selection"
   ]
  },
  {
   "cell_type": "code",
   "execution_count": 111,
   "id": "c2423de3",
   "metadata": {},
   "outputs": [],
   "source": [
    "df_selKBest = df_selKBest[:len(target)].reset_index(drop=True)\n",
    "target = target[:len(df_selKBest)].reset_index(drop=True)\n",
    "# Split the data into training and testing sets\n",
    "X_train, X_test, Y_train, Y_test = train_test_split(df_selKBest, target, test_size=0.25, random_state=42)\n",
    "\n",
    "# Create and train the linear regression model\n",
    "model = LinearRegression()\n",
    "model.fit(X_train, Y_train)\n",
    "\n",
    "# Predict the target variable using the test set\n",
    "Y_pred = model.predict(X_test)\n",
    "\n",
    "# Calculate the R2 score\n",
    "r2 = model.score(X_test, Y_test)\n",
    "\n",
    "# Calculate the RMSE\n",
    "rmse = mean_squared_error(Y_test, Y_pred, squared=False)\n",
    "\n",
    "# Append the information to the lists you created initially\n",
    "fsel_list.append(\"SelectKBest\")\n",
    "ftrans_list.append(\"None\")\n",
    "fscal_list.append(\"None\")\n",
    "r2_scores.append(r2)\n",
    "rmse_scores.append(rmse)"
   ]
  },
  {
   "cell_type": "markdown",
   "id": "41cc438b",
   "metadata": {},
   "source": [
    "### 6. Linear Regression Model with Lasso"
   ]
  },
  {
   "cell_type": "code",
   "execution_count": 112,
   "id": "a84ab068",
   "metadata": {},
   "outputs": [
    {
     "data": {
      "text/plain": [
       "array([1.        , 0.92864286, 0.85728571, 0.78592857, 0.71457143,\n",
       "       0.64321429, 0.57185714, 0.5005    , 0.42914286, 0.35778571,\n",
       "       0.28642857, 0.21507143, 0.14371429, 0.07235714, 0.001     ])"
      ]
     },
     "execution_count": 112,
     "metadata": {},
     "output_type": "execute_result"
    }
   ],
   "source": [
    "alphas = np.linspace(1, 0.001, 15) # alpha values\n",
    "alphas"
   ]
  },
  {
   "cell_type": "code",
   "execution_count": 113,
   "id": "b726894c",
   "metadata": {
    "scrolled": true
   },
   "outputs": [
    {
     "name": "stdout",
     "output_type": "stream",
     "text": [
      "Alpha 1.0 RMSE 1.2043631330042133\n",
      "Alpha 0.9286428571428571 RMSE 1.1989022379878722\n",
      "Alpha 0.8572857142857143 RMSE 1.1937160116037298\n",
      "Alpha 0.7859285714285714 RMSE 1.1888080442443636\n",
      "Alpha 0.7145714285714286 RMSE 1.1841818022814854\n",
      "Alpha 0.6432142857142857 RMSE 1.179840597023392\n",
      "Alpha 0.5718571428571428 RMSE 1.17588708125081\n",
      "Alpha 0.5005 RMSE 1.1700853728943457\n",
      "Alpha 0.42914285714285716 RMSE 1.1644460426832657\n",
      "Alpha 0.35778571428571426 RMSE 1.159470670529383\n",
      "Alpha 0.2864285714285715 RMSE 1.1551688274272314\n",
      "Alpha 0.21507142857142858 RMSE 1.151548061689161\n",
      "Alpha 0.14371428571428568 RMSE 1.1486148134203082\n",
      "Alpha 0.0723571428571429 RMSE 1.1465844328355528\n",
      "Alpha 0.001 RMSE 1.1374215955505824\n"
     ]
    },
    {
     "data": {
      "text/html": [
       "<div>\n",
       "<style scoped>\n",
       "    .dataframe tbody tr th:only-of-type {\n",
       "        vertical-align: middle;\n",
       "    }\n",
       "\n",
       "    .dataframe tbody tr th {\n",
       "        vertical-align: top;\n",
       "    }\n",
       "\n",
       "    .dataframe thead th {\n",
       "        text-align: right;\n",
       "    }\n",
       "</style>\n",
       "<table border=\"1\" class=\"dataframe\">\n",
       "  <thead>\n",
       "    <tr style=\"text-align: right;\">\n",
       "      <th></th>\n",
       "      <th>Alpha</th>\n",
       "      <th>RMSE</th>\n",
       "      <th>R2</th>\n",
       "    </tr>\n",
       "  </thead>\n",
       "  <tbody>\n",
       "    <tr>\n",
       "      <th>0</th>\n",
       "      <td>1.000000</td>\n",
       "      <td>1.204363</td>\n",
       "      <td>0.954985</td>\n",
       "    </tr>\n",
       "    <tr>\n",
       "      <th>1</th>\n",
       "      <td>0.928643</td>\n",
       "      <td>1.198902</td>\n",
       "      <td>0.955363</td>\n",
       "    </tr>\n",
       "    <tr>\n",
       "      <th>2</th>\n",
       "      <td>0.857286</td>\n",
       "      <td>1.193716</td>\n",
       "      <td>0.955712</td>\n",
       "    </tr>\n",
       "    <tr>\n",
       "      <th>3</th>\n",
       "      <td>0.785929</td>\n",
       "      <td>1.188808</td>\n",
       "      <td>0.956034</td>\n",
       "    </tr>\n",
       "    <tr>\n",
       "      <th>4</th>\n",
       "      <td>0.714571</td>\n",
       "      <td>1.184182</td>\n",
       "      <td>0.956327</td>\n",
       "    </tr>\n",
       "    <tr>\n",
       "      <th>5</th>\n",
       "      <td>0.643214</td>\n",
       "      <td>1.179841</td>\n",
       "      <td>0.956593</td>\n",
       "    </tr>\n",
       "    <tr>\n",
       "      <th>6</th>\n",
       "      <td>0.571857</td>\n",
       "      <td>1.175887</td>\n",
       "      <td>0.956839</td>\n",
       "    </tr>\n",
       "    <tr>\n",
       "      <th>7</th>\n",
       "      <td>0.500500</td>\n",
       "      <td>1.170085</td>\n",
       "      <td>0.957235</td>\n",
       "    </tr>\n",
       "    <tr>\n",
       "      <th>8</th>\n",
       "      <td>0.429143</td>\n",
       "      <td>1.164446</td>\n",
       "      <td>0.957605</td>\n",
       "    </tr>\n",
       "    <tr>\n",
       "      <th>9</th>\n",
       "      <td>0.357786</td>\n",
       "      <td>1.159471</td>\n",
       "      <td>0.957918</td>\n",
       "    </tr>\n",
       "    <tr>\n",
       "      <th>10</th>\n",
       "      <td>0.286429</td>\n",
       "      <td>1.155169</td>\n",
       "      <td>0.958175</td>\n",
       "    </tr>\n",
       "    <tr>\n",
       "      <th>11</th>\n",
       "      <td>0.215071</td>\n",
       "      <td>1.151548</td>\n",
       "      <td>0.958374</td>\n",
       "    </tr>\n",
       "    <tr>\n",
       "      <th>12</th>\n",
       "      <td>0.143714</td>\n",
       "      <td>1.148615</td>\n",
       "      <td>0.958517</td>\n",
       "    </tr>\n",
       "    <tr>\n",
       "      <th>13</th>\n",
       "      <td>0.072357</td>\n",
       "      <td>1.146584</td>\n",
       "      <td>0.958603</td>\n",
       "    </tr>\n",
       "    <tr>\n",
       "      <th>14</th>\n",
       "      <td>0.001000</td>\n",
       "      <td>1.137422</td>\n",
       "      <td>0.958907</td>\n",
       "    </tr>\n",
       "  </tbody>\n",
       "</table>\n",
       "</div>"
      ],
      "text/plain": [
       "       Alpha      RMSE        R2\n",
       "0   1.000000  1.204363  0.954985\n",
       "1   0.928643  1.198902  0.955363\n",
       "2   0.857286  1.193716  0.955712\n",
       "3   0.785929  1.188808  0.956034\n",
       "4   0.714571  1.184182  0.956327\n",
       "5   0.643214  1.179841  0.956593\n",
       "6   0.571857  1.175887  0.956839\n",
       "7   0.500500  1.170085  0.957235\n",
       "8   0.429143  1.164446  0.957605\n",
       "9   0.357786  1.159471  0.957918\n",
       "10  0.286429  1.155169  0.958175\n",
       "11  0.215071  1.151548  0.958374\n",
       "12  0.143714  1.148615  0.958517\n",
       "13  0.072357  1.146584  0.958603\n",
       "14  0.001000  1.137422  0.958907"
      ]
     },
     "execution_count": 113,
     "metadata": {},
     "output_type": "execute_result"
    }
   ],
   "source": [
    "features = features[:len(target)].reset_index(drop=True)\n",
    "target = target[:len(features)].reset_index(drop=True)\n",
    "X_train, X_test, Y_train, Y_test = train_test_split(features, target, test_size=0.25, random_state=42)\n",
    "# Convert non-numeric values to NaN\n",
    "X_train = X_train.apply(pd.to_numeric, errors='coerce')\n",
    "X_test = X_test.apply(pd.to_numeric, errors='coerce')\n",
    "\n",
    "# Fill NaN values with a specific value (e.g., 0)\n",
    "X_train = X_train.fillna(0)\n",
    "X_test = X_test.fillna(0)\n",
    "\n",
    "    \n",
    "rmse_list = []\n",
    "r2_list = []\n",
    "model_list = []\n",
    "\n",
    "for a in alphas:\n",
    "    lasso = Lasso(alpha=a, max_iter=1000)\n",
    "    lasso.fit(X_train, Y_train)\n",
    "    pred = lasso.predict(X_test)\n",
    "    \n",
    "    r2_list.append(lasso.score(X_train,Y_train))\n",
    "    rmse = mean_squared_error(Y_test, pred)**0.5;\n",
    "    rmse_list.append(rmse)\n",
    "    model_list.append(lasso)\n",
    "    print(\"Alpha\",a,\"RMSE\",rmse)\n",
    "    \n",
    "\n",
    "lasso_df = pd.DataFrame(zip(alphas, rmse_list, r2_list), columns=['Alpha', 'RMSE', \"R2\"])\n",
    "lasso_df"
   ]
  },
  {
   "cell_type": "code",
   "execution_count": 114,
   "id": "90bb8ea7",
   "metadata": {
    "scrolled": true
   },
   "outputs": [
    {
     "data": {
      "text/html": [
       "<div>\n",
       "<style scoped>\n",
       "    .dataframe tbody tr th:only-of-type {\n",
       "        vertical-align: middle;\n",
       "    }\n",
       "\n",
       "    .dataframe tbody tr th {\n",
       "        vertical-align: top;\n",
       "    }\n",
       "\n",
       "    .dataframe thead th {\n",
       "        text-align: right;\n",
       "    }\n",
       "</style>\n",
       "<table border=\"1\" class=\"dataframe\">\n",
       "  <thead>\n",
       "    <tr style=\"text-align: right;\">\n",
       "      <th></th>\n",
       "      <th>Alpha</th>\n",
       "      <th>RMSE</th>\n",
       "      <th>R2</th>\n",
       "    </tr>\n",
       "  </thead>\n",
       "  <tbody>\n",
       "    <tr>\n",
       "      <th>14</th>\n",
       "      <td>0.001</td>\n",
       "      <td>1.137422</td>\n",
       "      <td>0.958907</td>\n",
       "    </tr>\n",
       "  </tbody>\n",
       "</table>\n",
       "</div>"
      ],
      "text/plain": [
       "    Alpha      RMSE        R2\n",
       "14  0.001  1.137422  0.958907"
      ]
     },
     "execution_count": 114,
     "metadata": {},
     "output_type": "execute_result"
    }
   ],
   "source": [
    "lasso_df.sort_values(by=['RMSE', 'R2'], ascending=[True, False]).head(1) # best alpha value with highest R2 and lowest RMSE value"
   ]
  },
  {
   "cell_type": "code",
   "execution_count": 115,
   "id": "35301bb4",
   "metadata": {},
   "outputs": [
    {
     "name": "stdout",
     "output_type": "stream",
     "text": [
      "CourseCategory     0.000000e+00\n",
      "InstRating         0.000000e+00\n",
      "Student            5.692238e-07\n",
      "Duration           2.930550e-03\n",
      "NumberRatings      8.581960e-04\n",
      "Enrollment        -1.206344e-04\n",
      "LastUpdated       -0.000000e+00\n",
      "Fee                2.204394e-03\n",
      "Discount           8.673375e-05\n",
      "cbrt_Enrollment    4.835654e-01\n",
      "cbrt_Student      -1.241143e-02\n",
      "dtype: float64\n"
     ]
    }
   ],
   "source": [
    "best_model = model_list[13]\n",
    "print(pd.Series(best_model.coef_, index=features.columns))"
   ]
  },
  {
   "cell_type": "code",
   "execution_count": 116,
   "id": "456f22e5",
   "metadata": {},
   "outputs": [],
   "source": [
    "fsel_list.append(\"Lasso Alpha\")\n",
    "ftrans_list.append(\"None\")\n",
    "fscal_list.append(\"None\")\n",
    "r2_scores.append(r2)\n",
    "rmse_scores.append(rmse)"
   ]
  },
  {
   "cell_type": "code",
   "execution_count": 117,
   "id": "f6d07be6",
   "metadata": {
    "scrolled": true
   },
   "outputs": [
    {
     "name": "stdout",
     "output_type": "stream",
     "text": [
      "(1389, 11)\n",
      "(1389,)\n"
     ]
    }
   ],
   "source": [
    "print(features.shape)  # Check the shape of df_selKBest\n",
    "print(target.shape) "
   ]
  },
  {
   "cell_type": "markdown",
   "id": "9771a4d0",
   "metadata": {},
   "source": [
    "### 7. Plot and summary analysis"
   ]
  },
  {
   "cell_type": "code",
   "execution_count": 118,
   "id": "fb935c2a",
   "metadata": {},
   "outputs": [
    {
     "data": {
      "text/html": [
       "<div>\n",
       "<style scoped>\n",
       "    .dataframe tbody tr th:only-of-type {\n",
       "        vertical-align: middle;\n",
       "    }\n",
       "\n",
       "    .dataframe tbody tr th {\n",
       "        vertical-align: top;\n",
       "    }\n",
       "\n",
       "    .dataframe thead th {\n",
       "        text-align: right;\n",
       "    }\n",
       "</style>\n",
       "<table border=\"1\" class=\"dataframe\">\n",
       "  <thead>\n",
       "    <tr style=\"text-align: right;\">\n",
       "      <th></th>\n",
       "      <th>Feature Selection</th>\n",
       "      <th>Feature Transformation</th>\n",
       "      <th>R2</th>\n",
       "      <th>RMSE</th>\n",
       "    </tr>\n",
       "  </thead>\n",
       "  <tbody>\n",
       "    <tr>\n",
       "      <th>0</th>\n",
       "      <td>Correlation Based</td>\n",
       "      <td>None</td>\n",
       "      <td>0.964935</td>\n",
       "      <td>0.979711</td>\n",
       "    </tr>\n",
       "    <tr>\n",
       "      <th>1</th>\n",
       "      <td>Correlation Based</td>\n",
       "      <td>Log1p</td>\n",
       "      <td>-3.345816</td>\n",
       "      <td>1.525760</td>\n",
       "    </tr>\n",
       "    <tr>\n",
       "      <th>2</th>\n",
       "      <td>Variance</td>\n",
       "      <td>None</td>\n",
       "      <td>0.964935</td>\n",
       "      <td>0.979711</td>\n",
       "    </tr>\n",
       "    <tr>\n",
       "      <th>3</th>\n",
       "      <td>SelectKBest</td>\n",
       "      <td>None</td>\n",
       "      <td>-0.003675</td>\n",
       "      <td>5.439714</td>\n",
       "    </tr>\n",
       "    <tr>\n",
       "      <th>4</th>\n",
       "      <td>Lasso Alpha</td>\n",
       "      <td>None</td>\n",
       "      <td>-0.003675</td>\n",
       "      <td>1.137422</td>\n",
       "    </tr>\n",
       "  </tbody>\n",
       "</table>\n",
       "</div>"
      ],
      "text/plain": [
       "   Feature Selection Feature Transformation        R2      RMSE\n",
       "0  Correlation Based                   None  0.964935  0.979711\n",
       "1  Correlation Based                  Log1p -3.345816  1.525760\n",
       "2           Variance                   None  0.964935  0.979711\n",
       "3        SelectKBest                   None -0.003675  5.439714\n",
       "4        Lasso Alpha                   None -0.003675  1.137422"
      ]
     },
     "execution_count": 118,
     "metadata": {},
     "output_type": "execute_result"
    }
   ],
   "source": [
    "# Create a dataframe to summarize the results\n",
    "display_df =pd.DataFrame(list(zip(fsel_list, ftrans_list,r2_scores,rmse_scores)),\n",
    "                         columns =['Feature Selection', 'Feature Transformation','R2', 'RMSE']) \n",
    "# displaying table\n",
    "\n",
    "display_df"
   ]
  },
  {
   "cell_type": "code",
   "execution_count": 119,
   "id": "24a4f5f2",
   "metadata": {},
   "outputs": [
    {
     "data": {
      "text/html": [
       "<div>\n",
       "<style scoped>\n",
       "    .dataframe tbody tr th:only-of-type {\n",
       "        vertical-align: middle;\n",
       "    }\n",
       "\n",
       "    .dataframe tbody tr th {\n",
       "        vertical-align: top;\n",
       "    }\n",
       "\n",
       "    .dataframe thead th {\n",
       "        text-align: right;\n",
       "    }\n",
       "</style>\n",
       "<table border=\"1\" class=\"dataframe\">\n",
       "  <thead>\n",
       "    <tr style=\"text-align: right;\">\n",
       "      <th></th>\n",
       "      <th>Feature Selection</th>\n",
       "      <th>Feature Transformation</th>\n",
       "      <th>R2</th>\n",
       "      <th>RMSE</th>\n",
       "    </tr>\n",
       "  </thead>\n",
       "  <tbody>\n",
       "    <tr>\n",
       "      <th>2</th>\n",
       "      <td>Variance</td>\n",
       "      <td>None</td>\n",
       "      <td>0.964935</td>\n",
       "      <td>0.979711</td>\n",
       "    </tr>\n",
       "  </tbody>\n",
       "</table>\n",
       "</div>"
      ],
      "text/plain": [
       "  Feature Selection Feature Transformation        R2      RMSE\n",
       "2          Variance                   None  0.964935  0.979711"
      ]
     },
     "execution_count": 119,
     "metadata": {},
     "output_type": "execute_result"
    }
   ],
   "source": [
    "best_df=display_df.sort_values(by=['RMSE', 'R2'], ascending=[True, False]).head(1)\n",
    "best_df # best method"
   ]
  },
  {
   "cell_type": "code",
   "execution_count": 120,
   "id": "b0c88c43",
   "metadata": {},
   "outputs": [
    {
     "data": {
      "text/plain": [
       "Text(0.5, 1.0, 'Comparison of True Values and Predicted Values')"
      ]
     },
     "execution_count": 120,
     "metadata": {},
     "output_type": "execute_result"
    },
    {
     "data": {
      "image/png": "[encoded data removed]",
      "text/plain": [
       "<Figure size 640x480 with 1 Axes>"
      ]
     },
     "metadata": {},
     "output_type": "display_data"
    }
   ],
   "source": [
    "# creating scatter plot of actual vs predicted values\n",
    "plt.scatter(Y_pred, Y_test, alpha=0.75, color='b')\n",
    "plt.xlabel('True Values')\n",
    "plt.ylabel('Predicted Values')\n",
    "plt.title('Comparison of True Values and Predicted Values')"
   ]
  },
  {
   "cell_type": "code",
   "execution_count": 121,
   "id": "d7759552",
   "metadata": {},
   "outputs": [
    {
     "data": {
      "text/html": [
       "<div>\n",
       "<style scoped>\n",
       "    .dataframe tbody tr th:only-of-type {\n",
       "        vertical-align: middle;\n",
       "    }\n",
       "\n",
       "    .dataframe tbody tr th {\n",
       "        vertical-align: top;\n",
       "    }\n",
       "\n",
       "    .dataframe thead th {\n",
       "        text-align: right;\n",
       "    }\n",
       "</style>\n",
       "<table border=\"1\" class=\"dataframe\">\n",
       "  <thead>\n",
       "    <tr style=\"text-align: right;\">\n",
       "      <th></th>\n",
       "      <th>Feature</th>\n",
       "      <th>Coefficient</th>\n",
       "    </tr>\n",
       "  </thead>\n",
       "  <tbody>\n",
       "    <tr>\n",
       "      <th>0</th>\n",
       "      <td>CourseCategory</td>\n",
       "      <td>-1.156478e+00</td>\n",
       "    </tr>\n",
       "    <tr>\n",
       "      <th>1</th>\n",
       "      <td>InstRating</td>\n",
       "      <td>-1.865875e-07</td>\n",
       "    </tr>\n",
       "    <tr>\n",
       "      <th>2</th>\n",
       "      <td>Student</td>\n",
       "      <td>3.351886e-05</td>\n",
       "    </tr>\n",
       "    <tr>\n",
       "      <th>3</th>\n",
       "      <td>Duration</td>\n",
       "      <td>-7.250054e-07</td>\n",
       "    </tr>\n",
       "    <tr>\n",
       "      <th>4</th>\n",
       "      <td>NumberRatings</td>\n",
       "      <td>-2.830889e-03</td>\n",
       "    </tr>\n",
       "    <tr>\n",
       "      <th>5</th>\n",
       "      <td>Enrollment</td>\n",
       "      <td>-7.696693e-03</td>\n",
       "    </tr>\n",
       "    <tr>\n",
       "      <th>6</th>\n",
       "      <td>LastUpdated</td>\n",
       "      <td>8.824170e-03</td>\n",
       "    </tr>\n",
       "  </tbody>\n",
       "</table>\n",
       "</div>"
      ],
      "text/plain": [
       "          Feature   Coefficient\n",
       "0  CourseCategory -1.156478e+00\n",
       "1      InstRating -1.865875e-07\n",
       "2         Student  3.351886e-05\n",
       "3        Duration -7.250054e-07\n",
       "4   NumberRatings -2.830889e-03\n",
       "5      Enrollment -7.696693e-03\n",
       "6     LastUpdated  8.824170e-03"
      ]
     },
     "execution_count": 121,
     "metadata": {},
     "output_type": "execute_result"
    }
   ],
   "source": [
    "# displaying coeffient list\n",
    "coef = model.coef_.transpose()\n",
    "feat = list(X_train.columns)\n",
    "pd.DataFrame(zip(feat, coef), columns=['Feature', 'Coefficient'])"
   ]
  },
  {
   "cell_type": "markdown",
   "id": "1cdd5861",
   "metadata": {},
   "source": [
    "### Readings"
   ]
  },
  {
   "cell_type": "markdown",
   "id": "65be2828",
   "metadata": {},
   "source": [
    "### 8. Out of Sample Predictions"
   ]
  },
  {
   "cell_type": "code",
   "execution_count": 122,
   "id": "67db39ed",
   "metadata": {
    "scrolled": true
   },
   "outputs": [],
   "source": [
    "SyntheticData = pd.DataFrame({'cbrt_Enrollment':[31,25],'cbrt_Review':[44,11],'cbrt_Student':[64,31],'InstRating':[4.4,4.2],'Duration':[4.3,4.2],'Fee':[1,0],'Student':[4.2,4.6]})\n"
   ]
  },
  {
   "cell_type": "code",
   "execution_count": 123,
   "id": "70bf3485",
   "metadata": {},
   "outputs": [
    {
     "name": "stdout",
     "output_type": "stream",
     "text": [
      "Predicted Ratings:\n",
      "Sample 1: 8260898.1449744105\n",
      "Sample 2: 26771291.141832605\n"
     ]
    }
   ],
   "source": [
    "# Synthetic Dataset\n",
    "synthetic_data = pd.DataFrame({'cbrt_Enrollment':[31,25],'cbrt_Review':[44,11],'cbrt_Student':[64,31],'InstRating':[4.4,4.2],'Duration':[4.3,4.2],'Fee':[1,0],'Student':[4.2,4.6]})\n",
    "\n",
    "# Feature Scaling\n",
    "scaler = MinMaxScaler()\n",
    "synthetic_data_scaled = scaler.fit_transform(synthetic_data)\n",
    "\n",
    "# Perform out-of-sample prediction\n",
    "predicted_ratings = model.predict(synthetic_data_scaled)\n",
    "predicted_ratings = np.expm1(predicted_ratings)  # Convert back from log1p transformation if applicable\n",
    "\n",
    "# Print the predicted ratings\n",
    "print(\"Predicted Ratings:\")\n",
    "for i, rating in enumerate(predicted_ratings):\n",
    "    print(f\"Sample {i+1}: {rating}\")\n"
   ]
  }
 ],
 "metadata": {
  "kernelspec": {
   "display_name": "Python 3 (ipykernel)",
   "language": "python",
   "name": "python3"
  },
  "language_info": {
   "codemirror_mode": {
    "name": "ipython",
    "version": 3
   },
   "file_extension": ".py",
   "mimetype": "text/x-python",
   "name": "python",
   "nbconvert_exporter": "python",
   "pygments_lexer": "ipython3",
   "version": "3.10.11"
  }
 },
 "nbformat": 4,
 "nbformat_minor": 5
}
